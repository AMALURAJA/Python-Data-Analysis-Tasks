{
 "cells": [
  {
   "cell_type": "code",
   "execution_count": 29,
   "id": "10995477-f7b9-427e-9f4b-6e1e191ddc4b",
   "metadata": {},
   "outputs": [],
   "source": [
    "import numpy as np\n",
    "import pandas as pd\n",
    "import seaborn as sns"
   ]
  },
  {
   "cell_type": "code",
   "execution_count": 68,
   "id": "2105f0db-458a-417e-9207-f72557c0a1c7",
   "metadata": {},
   "outputs": [
    {
     "name": "stdout",
     "output_type": "stream",
     "text": [
      "[0. 0. 0. 0. 0. 0. 0. 0. 0. 0.]\n"
     ]
    }
   ],
   "source": [
    "#1\n",
    "zero= np.zeros(10)\n",
    "print(zero)"
   ]
  },
  {
   "cell_type": "code",
   "execution_count": 69,
   "id": "016bbbc9-0dc2-4163-8525-a42988dfb714",
   "metadata": {},
   "outputs": [
    {
     "name": "stdout",
     "output_type": "stream",
     "text": [
      "[1. 1. 1. 1. 1. 1. 1. 1. 1. 1.]\n"
     ]
    }
   ],
   "source": [
    "#2\n",
    "one= np.ones(10)\n",
    "print(one)"
   ]
  },
  {
   "cell_type": "code",
   "execution_count": 70,
   "id": "d0a7b784-0504-481d-a7c9-70ef7e16b546",
   "metadata": {},
   "outputs": [
    {
     "name": "stdout",
     "output_type": "stream",
     "text": [
      "[10 11 12 13 14 15 16 17 18 19 20 21 22 23 24 25 26 27 28 29 30 31 32 33\n",
      " 34 35 36 37 38 39 40 41 42 43 44 45 46 47 48 49 50]\n"
     ]
    }
   ],
   "source": [
    "#3\n",
    "int = np.arange(10, 51)\n",
    "print(int)"
   ]
  },
  {
   "cell_type": "code",
   "execution_count": 73,
   "id": "b05f3a6f-ac2a-4bf5-b051-747564cdfe3f",
   "metadata": {},
   "outputs": [
    {
     "name": "stdout",
     "output_type": "stream",
     "text": [
      "[[0 1 2]\n",
      " [3 4 5]\n",
      " [6 7 8]]\n"
     ]
    }
   ],
   "source": [
    "#4\n",
    "matrix = np.arange(9).reshape(3, 3)\n",
    "print(matrix)"
   ]
  },
  {
   "cell_type": "code",
   "execution_count": 74,
   "id": "d2ae1944-705c-4499-9c79-451eccc5b4be",
   "metadata": {},
   "outputs": [
    {
     "name": "stdout",
     "output_type": "stream",
     "text": [
      "0.25759298593545843\n"
     ]
    }
   ],
   "source": [
    "#5\n",
    "randomnumber = np.random.random()\n",
    "print(randomnumber)"
   ]
  },
  {
   "cell_type": "code",
   "execution_count": 72,
   "id": "58bcf27c-f8d7-4917-9034-156307b8136e",
   "metadata": {},
   "outputs": [
    {
     "name": "stdout",
     "output_type": "stream",
     "text": [
      "[-0.23050567 -1.11559082  0.52132455 -0.10504934 -0.56657774 -1.91233311\n",
      "  1.27813271  0.12594737 -0.87312029 -1.45250413 -0.76401394  0.51871883\n",
      "  1.84884772  0.06565549  0.98074352  0.31227616  1.27046524 -1.11876733\n",
      "  0.94622982  0.25039643  0.95328158  1.44521786 -0.57437608 -0.11035042\n",
      "  0.95664114]\n"
     ]
    }
   ],
   "source": [
    "#6\n",
    "randomarray = np.random.randn(25)\n",
    "print(randomarray)"
   ]
  },
  {
   "cell_type": "code",
   "execution_count": 71,
   "id": "942667ed-813e-47f8-b5b1-44e072790c9d",
   "metadata": {},
   "outputs": [
    {
     "name": "stdout",
     "output_type": "stream",
     "text": [
      "[0.         0.05263158 0.10526316 0.15789474 0.21052632 0.26315789\n",
      " 0.31578947 0.36842105 0.42105263 0.47368421 0.52631579 0.57894737\n",
      " 0.63157895 0.68421053 0.73684211 0.78947368 0.84210526 0.89473684\n",
      " 0.94736842 1.        ]\n"
     ]
    }
   ],
   "source": [
    "#7\n",
    "lineararray = np.linspace(0, 1, 20)\n",
    "print(lineararray)"
   ]
  },
  {
   "cell_type": "code",
   "execution_count": 14,
   "id": "b73ced41-9d62-4888-8d8b-7f9787416b78",
   "metadata": {},
   "outputs": [],
   "source": [
    "# 8\n",
    "matrix1 = np.array([[1, 2, 3], [4, 5, 6], [7, 8, 9]])\n",
    "matrix2 = np.array([[9, 8, 7], [6, 5, 4], [3, 2, 1]])"
   ]
  },
  {
   "cell_type": "code",
   "execution_count": 15,
   "id": "8149702e-022f-4e6e-85fe-26f7b6fa34a4",
   "metadata": {},
   "outputs": [],
   "source": [
    "addition = np.add(matrix1, matrix2)"
   ]
  },
  {
   "cell_type": "code",
   "execution_count": 16,
   "id": "e82779ac-65f2-4049-ba6a-d28eb76ddf79",
   "metadata": {},
   "outputs": [],
   "source": [
    "subtraction = np.subtract(matrix1, matrix2)"
   ]
  },
  {
   "cell_type": "code",
   "execution_count": 17,
   "id": "153fd16a-ac18-4890-bb38-32f7766b8131",
   "metadata": {},
   "outputs": [],
   "source": [
    "multiplication = np.dot(matrix1, matrix2)"
   ]
  },
  {
   "cell_type": "code",
   "execution_count": 23,
   "id": "c589aa94-b93f-422e-9add-01aa79bb4e7f",
   "metadata": {},
   "outputs": [],
   "source": [
    "elementmultiplication = np.multiply(matrix1, matrix2)"
   ]
  },
  {
   "cell_type": "code",
   "execution_count": 24,
   "id": "4a000785-df0d-4e14-80a3-7adbf6a3516a",
   "metadata": {},
   "outputs": [
    {
     "name": "stdout",
     "output_type": "stream",
     "text": [
      "matrix 1:\n",
      "[[1 2 3]\n",
      " [4 5 6]\n",
      " [7 8 9]]\n",
      "\n",
      "matrix 2:\n",
      "[[9 8 7]\n",
      " [6 5 4]\n",
      " [3 2 1]]\n",
      "\n",
      "matrix addition:\n",
      "[[10 10 10]\n",
      " [10 10 10]\n",
      " [10 10 10]]\n",
      "\n",
      "mtrix subtraction:\n",
      "[[-8 -6 -4]\n",
      " [-2  0  2]\n",
      " [ 4  6  8]]\n",
      "\n",
      "matrix multiplication:\n",
      "[[ 30  24  18]\n",
      " [ 84  69  54]\n",
      " [138 114  90]]\n",
      "\n",
      " element multiplication:\n",
      "[[ 9 16 21]\n",
      " [24 25 24]\n",
      " [21 16  9]]\n"
     ]
    }
   ],
   "source": [
    "print(\"matrix 1:\")\n",
    "print(matrix1)\n",
    "print(\"\\nmatrix 2:\")\n",
    "print(matrix2)\n",
    "print(\"\\nmatrix addition:\")\n",
    "print(addition)\n",
    "print(\"\\nmtrix subtraction:\")\n",
    "print(subtraction)\n",
    "print(\"\\nmatrix multiplication:\")\n",
    "print(multiplication)\n",
    "print(\"\\n element multiplication:\")\n",
    "print(elementmultiplication)"
   ]
  },
  {
   "cell_type": "code",
   "execution_count": 26,
   "id": "c9404e2c-646f-4bc6-a1dc-155632b543bc",
   "metadata": {},
   "outputs": [],
   "source": [
    "#9\n",
    "data = {\n",
    "    'name': ['amal', 'ramu', 'varun', 'rahul'],\n",
    "    'age': [25, 30, 35, 40],\n",
    "    'city': ['kannur', 'aduthila', 'madyi', 'payannur']\n",
    "}\n"
   ]
  },
  {
   "cell_type": "code",
   "execution_count": 28,
   "id": "9af7a702-0a0c-42db-b24a-f27707f8b6cb",
   "metadata": {},
   "outputs": [
    {
     "name": "stdout",
     "output_type": "stream",
     "text": [
      "    name  age      city\n",
      "0   amal   25    kannur\n",
      "1   ramu   30  aduthila\n",
      "2  varun   35     madyi\n",
      "3  rahul   40  payannur\n"
     ]
    }
   ],
   "source": [
    "df = pd.DataFrame(data)\n",
    "print(df)"
   ]
  },
  {
   "cell_type": "code",
   "execution_count": 32,
   "id": "e6353970-84b2-4496-9f74-64f132b7ca7c",
   "metadata": {},
   "outputs": [
    {
     "name": "stdout",
     "output_type": "stream",
     "text": [
      "     survived  pclass     sex   age  sibsp  parch     fare embarked   class  \\\n",
      "0           0       3    male  22.0      1      0   7.2500        S   Third   \n",
      "1           1       1  female  38.0      1      0  71.2833        C   First   \n",
      "2           1       3  female  26.0      0      0   7.9250        S   Third   \n",
      "3           1       1  female  35.0      1      0  53.1000        S   First   \n",
      "4           0       3    male  35.0      0      0   8.0500        S   Third   \n",
      "..        ...     ...     ...   ...    ...    ...      ...      ...     ...   \n",
      "886         0       2    male  27.0      0      0  13.0000        S  Second   \n",
      "887         1       1  female  19.0      0      0  30.0000        S   First   \n",
      "888         0       3  female   NaN      1      2  23.4500        S   Third   \n",
      "889         1       1    male  26.0      0      0  30.0000        C   First   \n",
      "890         0       3    male  32.0      0      0   7.7500        Q   Third   \n",
      "\n",
      "       who  adult_male deck  embark_town alive  alone  \n",
      "0      man        True  NaN  Southampton    no  False  \n",
      "1    woman       False    C    Cherbourg   yes  False  \n",
      "2    woman       False  NaN  Southampton   yes   True  \n",
      "3    woman       False    C  Southampton   yes  False  \n",
      "4      man        True  NaN  Southampton    no   True  \n",
      "..     ...         ...  ...          ...   ...    ...  \n",
      "886    man        True  NaN  Southampton    no   True  \n",
      "887  woman       False    B  Southampton   yes   True  \n",
      "888  woman       False  NaN  Southampton    no  False  \n",
      "889    man        True    C    Cherbourg   yes   True  \n",
      "890    man        True  NaN   Queenstown    no   True  \n",
      "\n",
      "[891 rows x 15 columns]\n"
     ]
    }
   ],
   "source": [
    "#10\n",
    "titanic = sns.load_dataset('titanic')\n",
    "print(titanic)"
   ]
  },
  {
   "cell_type": "code",
   "execution_count": 33,
   "id": "62122efe-48a6-48e3-9e81-9ed956b74b29",
   "metadata": {},
   "outputs": [
    {
     "name": "stdout",
     "output_type": "stream",
     "text": [
      "Missing values in each column:\n",
      "survived         0\n",
      "pclass           0\n",
      "sex              0\n",
      "age            177\n",
      "sibsp            0\n",
      "parch            0\n",
      "fare             0\n",
      "embarked         2\n",
      "class            0\n",
      "who              0\n",
      "adult_male       0\n",
      "deck           688\n",
      "embark_town      2\n",
      "alive            0\n",
      "alone            0\n",
      "dtype: int64\n"
     ]
    }
   ],
   "source": [
    "print(\"Missing values in each column:\")\n",
    "print(titanic.isnull().sum())"
   ]
  },
  {
   "cell_type": "code",
   "execution_count": 37,
   "id": "3b34d445-37be-4901-bf5c-0a770cf50d79",
   "metadata": {},
   "outputs": [],
   "source": [
    "cleaned= titanic.dropna()\n"
   ]
  },
  {
   "cell_type": "code",
   "execution_count": 38,
   "id": "d2193d77-ff45-4bd4-8f4b-8438e6f60339",
   "metadata": {},
   "outputs": [
    {
     "name": "stdout",
     "output_type": "stream",
     "text": [
      "\n",
      "Missing values after cleaning:\n",
      "survived       0\n",
      "pclass         0\n",
      "sex            0\n",
      "age            0\n",
      "sibsp          0\n",
      "parch          0\n",
      "fare           0\n",
      "embarked       0\n",
      "class          0\n",
      "who            0\n",
      "adult_male     0\n",
      "deck           0\n",
      "embark_town    0\n",
      "alive          0\n",
      "alone          0\n",
      "dtype: int64\n"
     ]
    }
   ],
   "source": [
    "print(\"\\nMissing values after cleaning:\")\n",
    "print(cleaned.isnull().sum())"
   ]
  },
  {
   "cell_type": "code",
   "execution_count": 40,
   "id": "6b45f6ba-c391-431a-bcb5-333e3c71841f",
   "metadata": {},
   "outputs": [
    {
     "name": "stdout",
     "output_type": "stream",
     "text": [
      "   ID     name  marks grade\n",
      "0   1     amal     85     B\n",
      "1   2      ram     92     A\n",
      "2   3     pavi     78     C\n",
      "3   4     mini     88     c\n",
      "4   5    minnu     56     C\n",
      "5   6   haneef     95     A\n",
      "6   7     Gopi     89     B\n",
      "7   8  lakshmi     73     C\n",
      "8   9  vishnui     12     e\n",
      "9  10     manu     84     B\n"
     ]
    }
   ],
   "source": [
    "#11\n",
    "data = {\n",
    "    'ID': [1, 2, 3, 4, 5, 6, 7, 8, 9, 10],\n",
    "    'name': ['amal', 'ram', 'pavi', 'mini', 'minnu', 'haneef', 'Gopi', 'lakshmi', 'vishnui', 'manu'],\n",
    "    'marks': [85, 92, 78, 88, 56, 95, 89, 73, 12, 84],\n",
    "    'grade': ['B', 'A', 'C', 'c', 'C', 'A', 'B', 'C', 'e', 'B']\n",
    "}\n",
    "\n",
    "df = pd.DataFrame(data)\n",
    "print(df)"
   ]
  },
  {
   "cell_type": "code",
   "execution_count": 41,
   "id": "e0db7ee0-94fd-4da9-82d9-42ff7bda9ece",
   "metadata": {},
   "outputs": [
    {
     "name": "stdout",
     "output_type": "stream",
     "text": [
      "   ID     name  marks grade\n",
      "8   9  vishnui     12     e\n",
      "4   5    minnu     56     C\n",
      "7   8  lakshmi     73     C\n",
      "2   3     pavi     78     C\n",
      "9  10     manu     84     B\n",
      "0   1     amal     85     B\n",
      "3   4     mini     88     c\n",
      "6   7     Gopi     89     B\n",
      "1   2      ram     92     A\n",
      "5   6   haneef     95     A\n"
     ]
    }
   ],
   "source": [
    "sorted = df.sort_values(by='marks', ascending=True)\n",
    "print(sorted)"
   ]
  },
  {
   "cell_type": "code",
   "execution_count": 44,
   "id": "ffe90c3c-610b-4219-97a4-4d25f7ba93e0",
   "metadata": {},
   "outputs": [],
   "source": [
    "#12\n",
    "iris = sns.load_dataset('iris')"
   ]
  },
  {
   "cell_type": "code",
   "execution_count": 45,
   "id": "1e70e16e-70c1-4ba9-9fe9-3a85ac9b27d8",
   "metadata": {},
   "outputs": [
    {
     "name": "stdout",
     "output_type": "stream",
     "text": [
      "First 10 rows of the Iris dataset:\n",
      "   sepal_length  sepal_width  petal_length  petal_width species\n",
      "0           5.1          3.5           1.4          0.2  setosa\n",
      "1           4.9          3.0           1.4          0.2  setosa\n",
      "2           4.7          3.2           1.3          0.2  setosa\n",
      "3           4.6          3.1           1.5          0.2  setosa\n",
      "4           5.0          3.6           1.4          0.2  setosa\n",
      "5           5.4          3.9           1.7          0.4  setosa\n",
      "6           4.6          3.4           1.4          0.3  setosa\n",
      "7           5.0          3.4           1.5          0.2  setosa\n",
      "8           4.4          2.9           1.4          0.2  setosa\n",
      "9           4.9          3.1           1.5          0.1  setosa\n"
     ]
    }
   ],
   "source": [
    "print(\"First 10 rows of the Iris dataset:\")\n",
    "print(iris.head(10))"
   ]
  },
  {
   "cell_type": "code",
   "execution_count": 46,
   "id": "30df4120-ad7c-4c83-8588-21b14a4a3877",
   "metadata": {},
   "outputs": [
    {
     "name": "stdout",
     "output_type": "stream",
     "text": [
      "\n",
      "Last 5 rows of the Iris dataset:\n",
      "     sepal_length  sepal_width  petal_length  petal_width    species\n",
      "145           6.7          3.0           5.2          2.3  virginica\n",
      "146           6.3          2.5           5.0          1.9  virginica\n",
      "147           6.5          3.0           5.2          2.0  virginica\n",
      "148           6.2          3.4           5.4          2.3  virginica\n",
      "149           5.9          3.0           5.1          1.8  virginica\n"
     ]
    }
   ],
   "source": [
    "print(\"\\nLast 5 rows of the Iris dataset:\")\n",
    "print(iris.tail(5))"
   ]
  },
  {
   "cell_type": "code",
   "execution_count": 67,
   "id": "78bcc86b-5df8-4020-b844-0b4de8fba32f",
   "metadata": {},
   "outputs": [
    {
     "name": "stdout",
     "output_type": "stream",
     "text": [
      "\n",
      "Basic insights:\n",
      "<class 'pandas.core.frame.DataFrame'>\n",
      "RangeIndex: 150 entries, 0 to 149\n",
      "Data columns (total 5 columns):\n",
      " #   Column        Non-Null Count  Dtype  \n",
      "---  ------        --------------  -----  \n",
      " 0   sepal_length  150 non-null    float64\n",
      " 1   sepal_width   150 non-null    float64\n",
      " 2   petal_length  150 non-null    float64\n",
      " 3   petal_width   150 non-null    float64\n",
      " 4   species       150 non-null    object \n",
      "dtypes: float64(4), object(1)\n",
      "memory usage: 6.0+ KB\n",
      "None\n",
      "\n",
      "Descriptive statistics:\n",
      "       sepal_length  sepal_width  petal_length  petal_width\n",
      "count    150.000000   150.000000    150.000000   150.000000\n",
      "mean       5.843333     3.057333      3.758000     1.199333\n",
      "std        0.828066     0.435866      1.765298     0.762238\n",
      "min        4.300000     2.000000      1.000000     0.100000\n",
      "25%        5.100000     2.800000      1.600000     0.300000\n",
      "50%        5.800000     3.000000      4.350000     1.300000\n",
      "75%        6.400000     3.300000      5.100000     1.800000\n",
      "max        7.900000     4.400000      6.900000     2.500000\n"
     ]
    }
   ],
   "source": [
    "print(\"\\nBasic insights:\")\n",
    "print(iris.info())\n",
    "print(\"\\nDescriptive statistics:\")\n",
    "print(iris.describe()) "
   ]
  },
  {
   "cell_type": "code",
   "execution_count": 82,
   "id": "ed0c4db2-b98f-4464-aa54-3cfcef9f5b70",
   "metadata": {},
   "outputs": [],
   "source": [
    "#13\n",
    "import seaborn as sns\n",
    "import matplotlib.pyplot as plt"
   ]
  },
  {
   "cell_type": "code",
   "execution_count": 83,
   "id": "eddbd876-aa48-4f27-9dea-1b7d9e329efb",
   "metadata": {},
   "outputs": [
    {
     "data": {
      "image/png": "[encoded data removed]",
      "text/plain": [
       "<Figure size 800x600 with 1 Axes>"
      ]
     },
     "metadata": {},
     "output_type": "display_data"
    }
   ],
   "source": [
    "plt.figure(figsize=(8, 6))\n",
    "sns.countplot(x='sex', data=titanic,color='blue')\n",
    "plt.xlabel('Sex')\n",
    "plt.ylabel('Count')\n",
    "plt.show()"
   ]
  },
  {
   "cell_type": "code",
   "execution_count": 86,
   "id": "c0981759-7870-403b-9e77-69a3dbe02745",
   "metadata": {},
   "outputs": [
    {
     "name": "stderr",
     "output_type": "stream",
     "text": [
      "C:\\Users\\user\\anaconda3\\Lib\\site-packages\\seaborn\\_oldcore.py:1119: FutureWarning: use_inf_as_na option is deprecated and will be removed in a future version. Convert inf values to NaN before operating instead.\n",
      "  with pd.option_context('mode.use_inf_as_na', True):\n"
     ]
    },
    {
     "data": {
      "text/plain": [
       "Text(0, 0.5, 'Count')"
      ]
     },
     "execution_count": 86,
     "metadata": {},
     "output_type": "execute_result"
    },
    {
     "data": {
      "image/png": "[encoded data removed]",
      "text/plain": [
       "<Figure size 640x480 with 1 Axes>"
      ]
     },
     "metadata": {},
     "output_type": "display_data"
    }
   ],
   "source": [
    "sns.histplot(titanic['fare'], kde=False, bins=25)\n",
    "plt.xlabel('Fare')\n",
    "plt.ylabel('Count')\n"
   ]
  },
  {
   "cell_type": "code",
   "execution_count": 65,
   "id": "3dd7d85b-0398-429e-8cf8-d67bbd8d1e04",
   "metadata": {},
   "outputs": [
    {
     "name": "stderr",
     "output_type": "stream",
     "text": [
      "C:\\Users\\user\\anaconda3\\Lib\\site-packages\\seaborn\\categorical.py:641: FutureWarning: The default of observed=False is deprecated and will be changed to True in a future version of pandas. Pass observed=False to retain current behavior or observed=True to adopt the future default and silence this warning.\n",
      "  grouped_vals = vals.groupby(grouper)\n"
     ]
    },
    {
     "data": {
      "text/plain": [
       "Text(0, 0.5, 'Age')"
      ]
     },
     "execution_count": 65,
     "metadata": {},
     "output_type": "execute_result"
    },
    {
     "data": {
      "image/png": "[encoded data removed]",
      "text/plain": [
       "<Figure size 640x480 with 1 Axes>"
      ]
     },
     "metadata": {},
     "output_type": "display_data"
    }
   ],
   "source": [
    "sns.boxplot(x='class', y='age', data=titanic, color='blue')\n",
    "plt.xlabel('Class', fontsize=12)\n",
    "plt.ylabel('Age', fontsize=12)\n"
   ]
  },
  {
   "cell_type": "code",
   "execution_count": null,
   "id": "78a30087-b1e4-4812-bf88-a2f141c07696",
   "metadata": {},
   "outputs": [],
   "source": []
  }
 ],
 "metadata": {
  "kernelspec": {
   "display_name": "Python 3 (ipykernel)",
   "language": "python",
   "name": "python3"
  },
  "language_info": {
   "codemirror_mode": {
    "name": "ipython",
    "version": 3
   },
   "file_extension": ".py",
   "mimetype": "text/x-python",
   "name": "python",
   "nbconvert_exporter": "python",
   "pygments_lexer": "ipython3",
   "version": "3.11.7"
  }
 },
 "nbformat": 4,
 "nbformat_minor": 5
}
